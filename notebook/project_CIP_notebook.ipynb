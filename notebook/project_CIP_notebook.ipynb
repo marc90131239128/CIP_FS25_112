{
 "cells": [
  {
   "cell_type": "markdown",
   "metadata": {},
   "source": [
    "<style>\n",
    ".toggle-button {\n",
    "    background-color:rgb(168, 168, 168);\n",
    "    color: black;\n",
    "    border: none;\n",
    "    color: white;\n",
    "    padding: 10px 20px;\n",
    "    text-align: center;\n",
    "    text-decoration: none;\n",
    "    display: inline-block;\n",
    "    font-size: 16px;\n",
    "    margin: 4px 2px;\n",
    "    cursor: pointer;\n",
    "    border-radius: 4px;\n",
    "}\n",
    "</style>\n",
    "\n",
    "<script>\n",
    "function toggleCode(buttonId, codeId) {\n",
    "    var code = document.getElementById(codeId);\n",
    "    var button = document.getElementById(buttonId);\n",
    "    if (code.style.display === 'none' || code.style.display === '') {\n",
    "        code.style.display = 'block';\n",
    "        button.textContent = 'Hide Picture';\n",
    "    } else {\n",
    "        code.style.display = 'none';\n",
    "        button.textContent = 'Show Picture';\n",
    "    }\n",
    "}\n",
    "</script>"
   ]
  },
  {
   "cell_type": "markdown",
   "metadata": {},
   "source": [
    "# **Understanding the Drivers of Rental Prices in Swiss Cities: A Machine Learning Approach**"
   ]
  },
  {
   "cell_type": "markdown",
   "metadata": {},
   "source": [
    "## **1. Introduction and Motivation**\n",
    "\n",
    "Housing affordability is a critical challenge in Swiss cities due to urbanization and limited supply. Our project provides a **data-driven analysis** of the German-speaking Swiss rental market using **EDA** and **machine learning**. We investigate how location, apartment features and median income influence rental prices.\n",
    "\n",
    "\n",
    "### **Research Questions**\n",
    "\n",
    "1. **What are the key drivers of rental prices in Swiss cities, and how do factors such as location, apartment size, and amenities (e.g., balcony, parking, furnished status) influence price variations?**\n",
    "\n",
    "2. **How does the factor median income for each zip code influence rental prices across different Swiss cities?**\n",
    "\n",
    "3. **What are the most common themes in apartment descriptions and how do they correlate with rental prices and apartment features?**\n"
   ]
  },
  {
   "cell_type": "markdown",
   "metadata": {},
   "source": [
    "## **2. Data Acquisition**"
   ]
  },
  {
   "cell_type": "markdown",
   "metadata": {},
   "source": [
    "**Note on Code Documentation:**\n",
    "\n",
    "Throughout this notebook, we do not present any code. For a comprehensive view of our implementation refer to the points below:\n",
    "\n",
    "- The complete data processing and analysis script is available in `Project_CIP 1.py`\n",
    "- Our web scraping implementation can be found in `web_scraper.py`\n",
    "- Additional supporting files and the raw data is also included in the project repository on github : \n",
    "https://github.com/marc90131239128/CIP_FS25_112\n",
    "\n",
    "This approach allows us to highlight the most relevant aspects of our analysis while keeping the documentation concise and accessible."
   ]
  },
  {
   "cell_type": "markdown",
   "metadata": {},
   "source": [
    "### **2.1 Web Scraping from ImmoScout24**\n",
    "\n",
    "To ensure a **comprehensive dataset**, we scrape rental listings from **ImmoScout24**, a leading Swiss real estate platform. Our focus is on the german speaking cities of **Zurich, Basel, Bern, Winterthur, St.Gallen, Aarau and Lucerne**, given their economic significance and housing demand.\n",
    "\n",
    "**Collected Features:**\n",
    "1. **Core Details:** City, Price, Rooms, Size, Address\n",
    "2. **Amenities:** Balcony, Parking, Furnishing etc.\n",
    "3. **Building Info:** Construction Year, Renovation\n",
    "4. **Other:** Availability, Description\n",
    "\n",
    "\n",
    "\n",
    "##### **Why Scraping?**\n",
    "##### **Advantages:**\n",
    "- Allows access to **real-time** data from active listings, providing an up-to-date market overview.\n",
    "- Allows to create customized datasets which do not exist in a structured format. \n",
    "- Enables analysis of property rent trends without relying on outdated or incomplete datasets.  \n",
    "\n",
    "##### **Limitations:**\n",
    "\n",
    "- **Data consistency**: Some listings may have incomplete or inconsistent information, particularly in optional fields like construction year or renovation dates as well as in the ammenities section.\n",
    "- **Temporal limitations**: The scraped data represents a snapshot of the market at a specific time, potentially missing seasonal trends or long-term market evolution.\n",
    "- **Geographic coverage**: While we focus on major Swiss cities, some smaller municipalities or suburban areas might be underrepresented in the dataset.\n",
    "- **Only Public Information**: A restrictive element is also that one only has access to public information and in our case no information behind a paywall or internal company data."
   ]
  },
  {
   "cell_type": "markdown",
   "metadata": {},
   "source": [
    "### 2.2 Integration with Socioeconomic Data\n"
   ]
  },
  {
   "cell_type": "markdown",
   "metadata": {},
   "source": [
    "To enrich our analysis, we fetch economic indicators from the **Eidgenössische Steuerverwaltung (ESTV)**, specifically the **median income in the different zip codes.** \n",
    "\n",
    "\n",
    "\n"
   ]
  },
  {
   "cell_type": "markdown",
   "metadata": {},
   "source": [
    "### 2.3 Geo admin API Integration"
   ]
  },
  {
   "cell_type": "markdown",
   "metadata": {},
   "source": [
    "We enhanced our data using the **Swiss Geo Admin API** to obtain:\n",
    "1. **Geocoding:** Property coordinates for spatial analysis\n",
    "2. **Transport Score:** Public transport accessibility metrics\n",
    "\n",
    "These features help analyze location-based price variations across Swiss cities."
   ]
  },
  {
   "cell_type": "markdown",
   "metadata": {},
   "source": [
    "## 3. Data Preprocessing & Cleaning\n",
    "\n",
    "Our data preprocessing pipeline involves several crucial steps to ensure data quality and consistency. We handle missing values, standardize formats, and create derived features to enhance our analysis capabilities."
   ]
  },
  {
   "cell_type": "markdown",
   "metadata": {},
   "source": [
    "### 3.1 Data Aggregation\n",
    "We begin by combining data from multiple CSV files which we scraped from Immoscout24 containing rental listings from different cities."
   ]
  },
  {
   "cell_type": "markdown",
   "metadata": {},
   "source": [
    "### 3.2 Data Cleaning\n",
    "Our cleaning process addresses several key aspects: "
   ]
  },
  {
   "cell_type": "markdown",
   "metadata": {},
   "source": [
    "#### 3.2.1 Handling Missing Values\n",
    "\n",
    "- We removed rows with missing values in critical columns (City, Price, Rooms, Street and PLZ/City). \n",
    "- In the \"Etage\" column, we encountered several missing values. As a first step, we created a separate column to distinguish between ground-floor units and those located on higher floors. Additionally, we attempted to extract information on whether a property had a balcony or terrace from the \"Eigenschaften\" column, but found that each entry included either both or none, which makes it impossible to seperate."
   ]
  },
  {
   "cell_type": "markdown",
   "metadata": {},
   "source": [
    "#### 3.2.2 Price and Living Space Standardization\n",
    "\n",
    "- **Price Standardization:** Converted all price-related columns (Price, Net Price, Additional Costs) to integers by removing non-digit characters and converting the strings to integer values.\n",
    "\n",
    "- **Living Space Cleaning:** Cleaned the 'Living Space' column by removing the \"m2\" suffix and removing whitespaces, while preserving missing values for later handling.\n",
    "\n",
    "- **Price per Square Meter Calculation:** Created a new metric 'Price per m2' by dividing the monthly price by living space and then calculated the mean price per square meter for each city to fill in the missing living spaces.\n",
    "\n"
   ]
  },
  {
   "cell_type": "markdown",
   "metadata": {},
   "source": [
    "#### 3.2.3 Feature Extraction from Property Description\n",
    "\n",
    "1. Feature List: Selected 9 key property features (balcony, lift, Minergie, etc.)\n",
    " \n",
    "\n",
    "2. Dual-Source Feature Detection: For each property feature, implemented a two-step detection process:\n",
    "\n",
    "- Initially extracted features from the 'Eigenschaften' column by creating binary (True/False) columns indicating the presence of each feature per listing.\n",
    "- For features not found in 'Eigenschaften', we cross-referenced the 'Description' field to detect any additional mentions, ensuring more comprehensive coverage.\n"
   ]
  },
  {
   "cell_type": "markdown",
   "metadata": {},
   "source": [
    "### 3.3 Outlier Detection and Removal\n",
    "\n",
    "Outliers were identified and removed based on a combination of visual inspection, domain expertise, and clearly defined thresholds. The following criteria were used to flag and exclude unrealistic entries:\n",
    "\n",
    "- Number of rooms greater than 10: Such listings are extremely rare and considered implausible for standard rental properties.\n",
    "- Monthly rent below 500 CHF: These often referred to cellars or storage rooms rather than actual apartments and were excluded accordingly.\n",
    "- Additional costs exceeding net rent: This is logically inconsistent and likely indicates data entry errors.\n",
    "\n",
    "\n",
    "By applying these filters, we ensured that the final dataset reflects realistic and relevant rental listings.\n",
    "\n",
    "\n",
    "\n"
   ]
  },
  {
   "cell_type": "markdown",
   "metadata": {},
   "source": [
    "### 3.4 Check Data Types\n",
    "\n",
    "Checking data types is essential to ensure that each column is interpreted correctly by analytical tools - for example, distinguishing between numerical, categorical or date values.\n",
    "\n",
    "\n"
   ]
  },
  {
   "cell_type": "markdown",
   "metadata": {},
   "source": [
    "### 3.4 Geocoding and Location Enhancement\n",
    "\n",
    "To enhance the location-based information in our dataset, we integrated additional data via API calls to Geo.admin. Specifically, we retrieved:\n",
    "\n",
    "- **Geographical coordinates** for each listing based on its address, enabling spatial analysis and visual inspection on a map.\n",
    "- **Public transport accessibility scores**, as we hypothesized that proximity to public transit could significantly influence rental prices."
   ]
  },
  {
   "cell_type": "markdown",
   "metadata": {},
   "source": [
    "### 3.5 Socioeconomic Feature Enhancements\n",
    "Additionally, we also merged the dataset `Steuerdaten_2021` for calculating the median income per postal code.\n"
   ]
  },
  {
   "cell_type": "markdown",
   "metadata": {},
   "source": [
    "## 4. Exploratory Data Analysis\n"
   ]
  },
  {
   "cell_type": "markdown",
   "metadata": {},
   "source": [
    "### 4.1 Rent Distribution and City Comparison\n",
    "\n",
    "The following visualization shows the distribution of rental prices across different Swiss cities:"
   ]
  },
  {
   "cell_type": "markdown",
   "metadata": {},
   "source": [
    "<button id=\"btn5\" class=\"toggle-button\" onclick=\"toggleCode('btn5', 'code5')\">Show Picture</button>\n",
    "<div id=\"code5\" style=\"display: none;\">\n",
    "\n",
    "![Price Distribution](../images/price_distribution.png)\n",
    "\n",
    "</div>\n"
   ]
  },
  {
   "cell_type": "markdown",
   "metadata": {},
   "source": [
    "This visualization reveals several key insights:\n",
    "\n",
    "- Rental price distributions vary significantly across cities, with Zurich showing the highest median rent and the widest Interquartile Range (IQR), while St. Gallen stands out with a noticeably lower median.\n",
    "- Despite a similar number of listings in Zurich and Basel, Zurich shows a broader price distribution and more extreme outliers.\n"
   ]
  },
  {
   "cell_type": "markdown",
   "metadata": {},
   "source": [
    "### 4.2 Living Space and Room Analysis"
   ]
  },
  {
   "cell_type": "markdown",
   "metadata": {},
   "source": [
    "<button id=\"btn6\" class=\"toggle-button\" onclick=\"toggleCode('btn6', 'code6')\">Show Picture</button>\n",
    "<div id=\"code6\" style=\"display: none;\">\n",
    "\n",
    "![Living space and rooms Distribution](../images/livingspace_rooms.png)\n",
    "\n",
    "\n",
    "</div>"
   ]
  },
  {
   "cell_type": "markdown",
   "metadata": {},
   "source": [
    "Living Space Distribution by City (Boxplot)\n",
    "- The median living space (m²) appears to be fairly consistent across cities, except St.Gallen.\n",
    "- Basel has a higher density of outliers, indicating a wider range of apartment sizes.\n",
    "\n",
    "\n",
    "\n",
    "Distribution of Apartment Sizes (Histogram)\n",
    "- The most common apartment sizes have between 2.5 and 3.5 rooms.\n",
    "- Apartments with 1 to 2 rooms are relatively more common compared to those with 4 to 5 rooms.\n"
   ]
  },
  {
   "cell_type": "markdown",
   "metadata": {},
   "source": [
    "### 4.3 Amenity Analysis\n"
   ]
  },
  {
   "cell_type": "markdown",
   "metadata": {},
   "source": [
    "<button id=\"btn7\" class=\"toggle-button\" onclick=\"toggleCode('btn7', 'code7')\">Show Picture</button>\n",
    "<div id=\"code7\" style=\"display: none;\">\n",
    "\n",
    "![Percentage Amenities in Listings](../images/percentage_properties_with_amenities.png)\n",
    "\n",
    "</div>"
   ]
  },
  {
   "cell_type": "markdown",
   "metadata": {},
   "source": [
    "- **Most common amenities**: Balcony/Terrace and Lift are the most frequently available, indicating high demand for outdoor space and accessibility.\n",
    "- **Moderately available**: View, Garage, Parking, Pet-friendly policies and Child-friendly features are present in a fair number of properties.\n",
    "- **Less common**: Minergie (energy efficiency) and Swimming pools are rare, suggesting they are premium or niche features.\n"
   ]
  },
  {
   "cell_type": "markdown",
   "metadata": {},
   "source": [
    "### 4.4 Geographic Distribution"
   ]
  },
  {
   "cell_type": "markdown",
   "metadata": {},
   "source": [
    "<button id=\"btn8\" class=\"toggle-button\" onclick=\"toggleCode('btn8', 'code8')\">Show Picture</button>\n",
    "<div id=\"code8\" style=\"display: none;\">\n",
    "\n",
    "![Percentage Amenities in Listings](../images/map.png)\n",
    "\n",
    "</div>"
   ]
  },
  {
   "cell_type": "markdown",
   "metadata": {},
   "source": [
    "### 4.5 Correlation Matrix"
   ]
  },
  {
   "cell_type": "markdown",
   "metadata": {},
   "source": [
    "<button id=\"btn9\" class=\"toggle-button\" onclick=\"toggleCode('btn9', 'code9')\">Show Picture</button>\n",
    "<div id=\"code9\" style=\"display: none;\">\n",
    "\n",
    "![Correlation Matrix](../images/correlation_matrix.png)\n",
    "\n",
    "</div>"
   ]
  },
  {
   "cell_type": "markdown",
   "metadata": {},
   "source": [
    "The correlation matrix helps us understand how different features relate to the target variable Price (CHF/Month). We see that Living Space (0.71) and Rooms (0.54) have strong positive correlations with price, suggesting they are key predictors. Some features, like Lift (0.02) or Haustiere erlaubt (0.03), have very weak correlations, meaning they may not add much predictive power. This analysis helps in feature selection - highly correlated features are useful, while weakly correlated ones might be reconsidered to avoid adding noise to the model."
   ]
  },
  {
   "cell_type": "markdown",
   "metadata": {},
   "source": [
    "## 5. Modeling"
   ]
  },
  {
   "cell_type": "markdown",
   "metadata": {},
   "source": [
    "### 5.1 Ridge Regression"
   ]
  },
  {
   "cell_type": "markdown",
   "metadata": {},
   "source": [
    "To enable a meaningful interpretation of the model, we chose a linear approach - specifically, Ridge Regression, which can still capture some non-linear relationships through the combination of input features. We used an alpha of 100 to apply strong regularization, which helps prevent overfitting and ensures better generalization. This is particularly useful when working with many features, including categorical variables like City, as it reduces multicollinearity and stabilizes the coefficients.\n",
    "\n",
    "The model achieved strong performance metrics: an **R² score of 0.753, an RMSE of 543.88 CHF, and an MAE of 384.91 CHF.**\n",
    "\n",
    "To obtain a more robust estimate of the model's performance, cross-validation could be used to average results across different train-test splits.\n",
    "\n",
    "When inspecting the distribution of residuals (see script), they are centered around zero and appear approximately normally distributed, though slightly right-skewed. This is desirable in regression, as it suggests that the model's errors are unbiased and mostly homoscedastic. The only notable deviations are a few outliers among very expensive apartments, but for the majority of listings, the model performs consistently well."
   ]
  },
  {
   "cell_type": "markdown",
   "metadata": {},
   "source": [
    "<button id=\"btn10\" class=\"toggle-button\" onclick=\"toggleCode('btn10', 'code10')\">Show Picture</button>\n",
    "<div id=\"code10\" style=\"display: none;\">\n",
    "\n",
    "![Predicted vs Actual Prices](../images/predicted_actual_prices.png)\n",
    "\n",
    "</div>"
   ]
  },
  {
   "cell_type": "markdown",
   "metadata": {},
   "source": [
    "### 5.2 Feature Importance"
   ]
  },
  {
   "cell_type": "markdown",
   "metadata": {},
   "source": [
    "<button id=\"btn11\" class=\"toggle-button\" onclick=\"toggleCode('btn11', 'code11')\">Show Picture</button>\n",
    "<div id=\"code11\" style=\"display: none;\">\n",
    "\n",
    "![Feature Importance](../images/key_drivers_rental_prices.png)\n",
    "\n",
    "</div>"
   ]
  },
  {
   "cell_type": "markdown",
   "metadata": {},
   "source": [
    "- Living Space and being located in Zürich are the most influential positive drivers of rental prices.\n",
    "- St. Gallen and Basel are associated with lower rents, indicating regional differences in pricing.\n",
    "- Features like apartment type, transport accessibility, and luxury amenities (e.g., swimming pool, view) moderately impact rent, but to a lesser extent.\n",
    "- Pet policies, parking, and certain apartment types (like Studio or Terrassenwohnung) have minimal influence on rental price.\n",
    "\n",
    "We can approximate the **rental price** prediction using the feature coefficients from the Ridge Regression model. However, since Ridge Regression applies L2 regularization, the actual feature importance are harder to interpret.\n",
    "\n"
   ]
  },
  {
   "cell_type": "markdown",
   "metadata": {},
   "source": [
    "## 6. Conclusion"
   ]
  },
  {
   "cell_type": "markdown",
   "metadata": {},
   "source": [
    "Throughout this project, we gained valuable insights into web scraping, especially how to extract data from dynamic pages and handle different HTML structures, such as span elements, lists, and dictionaries. This was crucial in ensuring that we could gather and structure the necessary data effectively. Additionally, we developed a strong understanding of the entire data pipeline, from data collection and cleaning to exploratory data analysis (EDA) and finally, building and evaluating a predictive model for rental prices.\n",
    "\n",
    "However, we also encountered some limitations, particularly the lack of a structured way to share code at the beginning. Without a reliable version control system like GitHub, collaboration was more difficult, and managing changes in the codebase was challenging. This experience highlighted the importance of using tools like GitHub, which we plan to integrate into future projects.\n",
    "\n",
    "Looking ahead, there are several ways to improve our model. One major area is incorporating macroeconomic factors like interest rates, inflation, or employment rates, which can significantly influence rental prices. Additionally, increasing the size and diversity of the dataset by collecting more observations would likely enhance model accuracy. Further experimentation with feature engineering and different modeling techniques could also help refine predictions and better capture real-world pricing trends. Moreover, we also tried to make a sentiment analysis based on the property descriptions and what impact it has on price, however, we decided against doing it as it would go beyond the scope of this project\n",
    "\n",
    "Overall, this project was a great learning experience and a lot of fun, but it also required hard work to get everything running as we had originally envisioned. From setting up the web scraper to handling dynamic pages and extracting structured data, to processing and analyzing the data before finally building our predictive model, every step came with its own challenges. However, overcoming these obstacles made the final results even more rewarding."
   ]
  }
 ],
 "metadata": {
  "kernelspec": {
   "display_name": "Python 3",
   "language": "python",
   "name": "python3"
  },
  "language_info": {
   "codemirror_mode": {
    "name": "ipython",
    "version": 3
   },
   "file_extension": ".py",
   "mimetype": "text/x-python",
   "name": "python",
   "nbconvert_exporter": "python",
   "pygments_lexer": "ipython3",
   "version": "3.12.4"
  }
 },
 "nbformat": 4,
 "nbformat_minor": 2
}
