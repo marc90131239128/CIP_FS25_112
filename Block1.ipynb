{
 "cells": [
  {
   "cell_type": "code",
   "execution_count": 14,
   "id": "initial_id",
   "metadata": {
    "ExecuteTime": {
     "end_time": "2025-02-21T08:33:15.744954Z",
     "start_time": "2025-02-21T08:33:14.784579Z"
    },
    "collapsed": true
   },
   "outputs": [
    {
     "name": "stdout",
     "output_type": "stream",
     "text": [
      "Stocktitle:      Alphabet Inc. (GOOG)\n",
      "Current price:   186.64 \n",
      "At close: February 20 at 4:00:01 PM EST \n"
     ]
    }
   ],
   "source": [
    "#!/usr/bin/env python3\n",
    "\"\"\"\\\n",
    "scrape finance data of google stock from yahoo.com.\n",
    "In the 'tr'-tags of the table, find all values of the 'span' - tag.\n",
    "\n",
    "authors:    Ramón Christen, Andreas Melillo\n",
    "date:       24.09.2024\n",
    "\"\"\"\n",
    "\n",
    "import requests\n",
    "from bs4 import BeautifulSoup\n",
    "\n",
    "url = \"https://finance.yahoo.com/quote/GOOG?p=GOOG&.tsrc=fin-srch\"\n",
    "myheaders = {\"User-Agent\" : \"Mozilla/5.0 (X11; Linux x86_64; rv:130.0) Gecko/20100101 Firefox/130.0\"}\n",
    "\n",
    "html_page = requests.get(url, headers = myheaders)\n",
    "soup = BeautifulSoup(html_page.content, 'lxml')\n",
    "\n",
    "# extract information by tag and class attributes\n",
    "stock_title_text = soup.find('h1', class_='yf-xxbei9').string\n",
    "print(\"Stocktitle:     \", stock_title_text)\n",
    "\n",
    "current_price = soup.find(\"span\", class_=\"base yf-ipw1h0\").string\n",
    "print(\"Current price:  \", current_price)\n",
    "\n",
    "# extract information with xpath: more stable solution\n",
    "from lxml import etree\n",
    "dom = etree.HTML(str(soup))\n",
    "price_time_stp = dom.xpath('//*[@id=\"nimbus-app\"]/section/section/section/article/section[1]/div[2]/div[1]/section/div/div[1]/section/div[2]/span/span/text()')\n",
    "print(price_time_stp[0])\n",
    "print(\"Hello\")"
   ]
  },
  {
   "cell_type": "code",
   "execution_count": 7,
   "id": "384cbf51d3ad0e49",
   "metadata": {
    "ExecuteTime": {
     "end_time": "2025-02-21T08:26:58.322919Z",
     "start_time": "2025-02-21T08:26:58.317203Z"
    }
   },
   "outputs": [
    {
     "name": "stdout",
     "output_type": "stream",
     "text": [
      "------------------------------------------------------------\n",
      "Previous Close                                        187.13\n",
      "Open                                                  186.52\n",
      "Bid                                             177.27 x 100\n",
      "Ask                                             196.08 x 100\n",
      "Day's Range                                  184.60 - 187.12\n",
      "52 Week Range                                131.55 - 208.70\n",
      "Volume                                            12,035,978\n",
      "Avg. Volume                                       18,951,181\n",
      "Market Cap (intraday)                                 2.263T\n",
      "Beta (5Y Monthly)                                       0.99\n",
      "PE Ratio (TTM)                                         23.19\n",
      "EPS (TTM)                                               8.05\n",
      "Earnings Date                    Apr 23, 2025 - Apr 28, 2025\n",
      "Forward Dividend & Yield                        0.80 (0.43%)\n",
      "Ex-Dividend Date                                Mar 10, 2025\n",
      "1y Target Est                                         218.72\n",
      "------------------------------------------------------------\n"
     ]
    }
   ],
   "source": [
    "\n",
    "# get all quote statistics\n",
    "quote_stat = soup.find(\"div\", attrs={'data-testid': 'quote-statistics'})\n",
    "\n",
    "# extract all statistic list elements\n",
    "all_stat = quote_stat.find_all(\"li\")\n",
    "\n",
    "# extract all statistic values and merge in dictionary list\n",
    "print(60*'-')\n",
    "print(*[\"{:<30}{:>30}\".format(*s.stripped_strings) for s in all_stat], sep='\\n')\n",
    "print(60*'-')\n",
    "\n"
   ]
  }
 ],
 "metadata": {
  "kernelspec": {
   "display_name": "Python 3",
   "language": "python",
   "name": "python3"
  },
  "language_info": {
   "codemirror_mode": {
    "name": "ipython",
    "version": 2
   },
   "file_extension": ".py",
   "mimetype": "text/x-python",
   "name": "python",
   "nbconvert_exporter": "python",
   "pygments_lexer": "ipython2",
   "version": "2.7.6"
  }
 },
 "nbformat": 4,
 "nbformat_minor": 5
}
